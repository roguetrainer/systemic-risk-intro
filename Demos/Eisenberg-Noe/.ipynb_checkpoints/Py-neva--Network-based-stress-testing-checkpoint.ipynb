{
 "cells": [
  {
   "cell_type": "markdown",
   "metadata": {},
   "source": [
    "# Network-based stress testing "
   ]
  },
  {
   "cell_type": "markdown",
   "metadata": {},
   "source": [
    "Network-based stress testing using the Network Valuation in financial systems (NEVA) framework.  \n",
    "https://github.com/marcobardoscia/neva   \n",
    "https://github.com/marcobardoscia/neva/blob/master/README.md   \n",
    "For [Barucca's slides](https://paolobaruccadb.files.wordpress.com/2017/01/bdf-tutorials-network-based-stress-testing.pdf) on the theory, & Matlab implementations, see [4].   "
   ]
  },
  {
   "cell_type": "markdown",
   "metadata": {},
   "source": [
    "#### Related notebooks"
   ]
  },
  {
   "cell_type": "markdown",
   "metadata": {},
   "source": [
    "NEVA is based on Merton's structural credit risk model, which views the equity price as an option on the underlying value of the firm, with strike price given by the debt level. (Merton 1974). This is demonstrated in the Azure Jupyter notebook using the R package `CreditRisk`: [R-CreditRisk.ipynb](https://notebooks.azure.com/ian-buckley/libraries/systemic-risk/html/R-CreditRisk.ipynb)"
   ]
  },
  {
   "cell_type": "markdown",
   "metadata": {},
   "source": [
    "## Overview"
   ]
  },
  {
   "cell_type": "markdown",
   "metadata": {},
   "source": [
    "Channels of financial contagion that cause systemic risk include solvency, distress & liquidity contagion."
   ]
  },
  {
   "cell_type": "markdown",
   "metadata": {},
   "source": [
    "Define a simple financial system composed of institutions with balance sheets:\n",
    "* external assets\n",
    "* external liabilities\n",
    "* interbank liabilities (matrix)"
   ]
  },
  {
   "cell_type": "markdown",
   "metadata": {},
   "source": [
    "Mechanisms of financial contagion:\n",
    "* Furfine\n",
    "* Eisenberg-Noe \n",
    "* Rogers-Veraart\n",
    "* DebtRank\n",
    "* Endogenous DebtRank"
   ]
  },
  {
   "cell_type": "markdown",
   "metadata": {},
   "source": [
    "|Model\t|Valuation time\t|Network propagation\t|Default losses\t|Endogenous Recovery\t|\n",
    "|:------ |:----- |:----- |:----- |:----- |\n",
    "|Merton\t|Ex-ante\t|None\t|None\t|None\t|\n",
    "|Eisenberg Noe\t|Ex-post\t|Local\t|None\t|Full\t|\n",
    "|Rogers Veraart\t|Ex-post\t|Local\t|Present\t|Full\t|\n",
    "|Linear DebtRank|Ex-ante\t|Local\t|Present\t|None\t|\n",
    "|Fischer Model\t|Ex-ante\t|Global\t|None\t|Full\t|\n",
    "|NEVA\t|Ex-ante\t|Local\t|Present\t|Full\t|\n"
   ]
  },
  {
   "cell_type": "markdown",
   "metadata": {},
   "source": [
    "The Network Valuation in financial systems (NEVA) framework \n",
    "* asks the question: \"What is the net value of a financial institution in a network?\". \n",
    "* takes into account at the same time \n",
    " * **interdependencies** (as in Furfine 1999, Eisenberg and Noe 2001) and \n",
    " * **uncertainty** (as in Merton 1974) with local exchange of information."
   ]
  },
  {
   "cell_type": "markdown",
   "metadata": {},
   "source": [
    "#### Theory of the valuation of equities as fixed point of a map"
   ]
  },
  {
   "cell_type": "markdown",
   "metadata": {},
   "source": [
    "Text from https://github.com/marcobardoscia/neva/blob/master/neva/bank.py"
   ]
  },
  {
   "cell_type": "markdown",
   "metadata": {},
   "source": [
    "The balance sheet of the bank consists of assets and liabilities, both of\n",
    "which can be either external or interbank. Interbank assets and liabilites are \n",
    "towards other banks:  \n",
    ">    $A_{ij}$ : money that bank $i$ loaned to bank $j$,  \n",
    "\n",
    "which is an asset for bank $i$. A corresponding liability $L_{ji} = A_{ij}$ exists in \n",
    "the balance sheet of bank j, so that:   \n",
    ">    $L_i^{ib} = \\sum_j L_{ij}$: aggregate interbank liabilities of bank i.   \n",
    "\n",
    "External assets and liabilities are towards entities not belonging to the \n",
    "banking system:    \n",
    ">    $A_i^e$ : aggregate external assets of bank $i$,  \n",
    ">    $L_i^e$ : aggregate external liabilities of bank $i$.  \n",
    "\n",
    "Therefore, the face (or book) value of the equity of bank $i$ is:  \n",
    ">    $E_i = A_i^e - L_i^e + \\sum_j A_{ij} - L_i^{ib}$ .  \n",
    "\n",
    "Liabilities have the following priorities (from the most senior to the most \n",
    "junior): external, interbank, equity. The mark-to-market valuation of external \n",
    "assets of bank i is:   \n",
    ">   $ A_i^e * V_i^e(E_i)$ ,  \n",
    "\n",
    "where $V_i^e (E_i)$ is the external valuation function for bank i and it takes \n",
    "values in the real interval [0, 1]. Similarly, the mark-to-market valuation of\n",
    "interbank assets is:   \n",
    ">    $A_{ij} * V_{ij}(E_i, E_j)$ ,   \n",
    "\n",
    "where $V_{ij}(E_i, E_j)$ is the full interbank valuation function for the couple \n",
    "of banks i and j and it also takes values in the real interval [0, 1]. Here \n",
    "the full interbank valuation function is factorised in following way:    \n",
    ">    $V_{ij}(E_i, E_j) = {\\rm ibeval\\_lender}(E_i) * {\\rm ibeval}(E_j)$ ,  \n",
    "\n",
    "the lender interbank valuation function and the (proper) interbank valuation \n",
    "function. The former captures the dependence of the valuation of interbank \n",
    "assets on the equity of the lender, while the latter on the equity of the \n",
    "borrower.   \n",
    "The valuation of the equities is obtained as fixed point of the map:   \n",
    ">    $E = \\Phi(E)$ ,  \n",
    "\n",
    "where:    \n",
    ">    $\\Phi(E_i) =  A_i^e * V_i^e(E_i) - L_i^e +\n",
    "                 + \\sum_j A_{ij} * V_{ij}(E_i, E_j) - L_i^{ib}$ .  "
   ]
  },
  {
   "cell_type": "markdown",
   "metadata": {
    "jp-MarkdownHeadingCollapsed": true,
    "tags": []
   },
   "source": [
    "### Install package from github - first time only!"
   ]
  },
  {
   "cell_type": "markdown",
   "metadata": {},
   "source": [
    "This only needs to be done the first time that you run the notebook after cloning the notebook into your own account. "
   ]
  },
  {
   "cell_type": "markdown",
   "metadata": {},
   "source": [
    "Clone git repository to Azure. Output should say:  \n",
    "    `Cloning into 'neva'...  \n",
    "    Checking out files: 100% (23/23), done.`"
   ]
  },
  {
   "cell_type": "code",
   "execution_count": 1,
   "metadata": {
    "collapsed": true,
    "jupyter": {
     "outputs_hidden": true
    }
   },
   "outputs": [
    {
     "name": "stdout",
     "output_type": "stream",
     "text": [
      "Cloning into 'neva'...\n",
      "remote: Counting objects: 32, done.\u001b[K\n",
      "remote: Total 32 (delta 0), reused 0 (delta 0), pack-reused 32\u001b[K\n",
      "Receiving objects: 100% (32/32), 25.06 KiB | 0 bytes/s, done.\n",
      "Resolving deltas: 100% (4/4), done.\n",
      "Checking connectivity... done.\n",
      "Checking out files: 100% (23/23), done.\n"
     ]
    }
   ],
   "source": [
    "!git clone git://github.com/marcobardoscia/neva.git"
   ]
  },
  {
   "cell_type": "markdown",
   "metadata": {
    "slideshow": {
     "slide_type": "slide"
    }
   },
   "source": [
    "Change directory into the newly-created `neva` folder, to run the script to install the `neva` package, ready for use by the python code in the notebook."
   ]
  },
  {
   "cell_type": "code",
   "execution_count": 2,
   "metadata": {
    "tags": []
   },
   "outputs": [
    {
     "name": "stdout",
     "output_type": "stream",
     "text": [
      "/Users/ianbuckley/GitHub/systemic-risk-azure-notebooks/neva\n",
      "Obtaining file:///Users/ianbuckley/GitHub/systemic-risk-azure-notebooks/neva\n",
      "Installing collected packages: neva\n",
      "  Attempting uninstall: neva\n",
      "    Found existing installation: neva 0.1\n",
      "    Uninstalling neva-0.1:\n",
      "      Successfully uninstalled neva-0.1\n",
      "  Running setup.py develop for neva\n",
      "Successfully installed neva-0.1\n"
     ]
    }
   ],
   "source": [
    "%cd /Users/ianbuckley/GitHub/systemic-risk-azure-notebooks/neva\n",
    "!pip install -e .\n",
    "#!python setup.py install\n",
    "# %cd /home/nbuser/library   # Move back up to /home/nbuser/library"
   ]
  },
  {
   "cell_type": "markdown",
   "metadata": {},
   "source": [
    "You can also download the neva repo from github, move to the neva folder & submit `pip install -e .`"
   ]
  },
  {
   "cell_type": "code",
   "execution_count": 16,
   "metadata": {},
   "outputs": [],
   "source": [
    "# Append the package to the path\n",
    "# import sys\n",
    "# sys.path.append(\"/home/nbuser/library/neva/data\") # Still can't find the data. Have to cd there!\n",
    "# sys.path.append('/home/nbuser/anaconda3_501/lib/python3.6/site-packages/neva-0.1-py3.6.egg')"
   ]
  },
  {
   "cell_type": "code",
   "execution_count": 8,
   "metadata": {},
   "outputs": [
    {
     "name": "stdout",
     "output_type": "stream",
     "text": [
      "/home/nbuser/library/neva\n"
     ]
    }
   ],
   "source": [
    "# Change directory to where the neva  files are\n",
    "%cd /home/nbuser/library/neva"
   ]
  },
  {
   "cell_type": "markdown",
   "metadata": {},
   "source": [
    "## Simplest example - Eisenberg and Noe\n",
    "In the simplest example we will run the Eisenberg and Noe algorithm without \n",
    "any shocks to equities."
   ]
  },
  {
   "cell_type": "code",
   "execution_count": 3,
   "metadata": {},
   "outputs": [],
   "source": [
    "import neva"
   ]
  },
  {
   "cell_type": "code",
   "execution_count": 4,
   "metadata": {},
   "outputs": [
    {
     "name": "stdout",
     "output_type": "stream",
     "text": [
      "Help on package neva:\n",
      "\n",
      "NAME\n",
      "    neva\n",
      "\n",
      "PACKAGE CONTENTS\n",
      "    adjust\n",
      "    bank\n",
      "    bankingsystem\n",
      "    exteval\n",
      "    gbm\n",
      "    ibeval\n",
      "    ibeval_lender\n",
      "    parse\n",
      "    utils\n",
      "\n",
      "FILE\n",
      "    /Users/ianbuckley/GitHub/systemic-risk-azure-notebooks/neva/neva/__init__.py\n",
      "\n",
      "\n"
     ]
    }
   ],
   "source": [
    "help(neva)"
   ]
  },
  {
   "cell_type": "code",
   "execution_count": 5,
   "metadata": {},
   "outputs": [
    {
     "name": "stdout",
     "output_type": "stream",
     "text": [
      "/Users/ianbuckley/GitHub/systemic-risk-azure-notebooks/neva/data\n"
     ]
    }
   ],
   "source": [
    "# Change directory to where the neva data files are\n",
    "# %cd /home/nbuser/library/neva/data\n",
    "%cd /Users/ianbuckley/GitHub/systemic-risk-azure-notebooks/neva/data"
   ]
  },
  {
   "cell_type": "markdown",
   "metadata": {},
   "source": [
    "See:\n",
    "* [balance_sheets.csv](https://github.com/marcobardoscia/neva/blob/master/data/balance_sheets.csv),  \n",
    "* [exposures_table.csv](https://github.com/marcobardoscia/neva/blob/master/data/exposures_table.csv)"
   ]
  },
  {
   "cell_type": "code",
   "execution_count": 6,
   "metadata": {},
   "outputs": [],
   "source": [
    "# parsing data\n",
    "bsys, params = neva.parse_csv('balance_sheets.csv', 'exposures_table.csv')"
   ]
  },
  {
   "cell_type": "code",
   "execution_count": 7,
   "metadata": {},
   "outputs": [],
   "source": [
    "# running Eisenberg and Noe (without any shock to equities)\n",
    "equity_shock = [0.0 for _ in bsys]\n",
    "neva.shock_and_solve(bsys, equity_shock, method='eisenberg_noe', solve_assets=False)"
   ]
  },
  {
   "cell_type": "code",
   "execution_count": 8,
   "metadata": {},
   "outputs": [],
   "source": [
    "# reading final equities\n",
    "equity_final = bsys.history[-1]"
   ]
  },
  {
   "cell_type": "code",
   "execution_count": 9,
   "metadata": {},
   "outputs": [
    {
     "data": {
      "text/plain": [
       "[1.0, 1.0, 1.0]"
      ]
     },
     "execution_count": 9,
     "metadata": {},
     "output_type": "execute_result"
    }
   ],
   "source": [
    "equity_final"
   ]
  },
  {
   "cell_type": "code",
   "execution_count": 10,
   "metadata": {},
   "outputs": [],
   "source": [
    "# computing payment vectors\n",
    "pay_vec = [bnk.ibliabtot if bnk.equity >= 0 else\n",
    "           max(bnk.equity + bnk.ibliabtot, 0.0) for bnk in bsys]"
   ]
  },
  {
   "cell_type": "code",
   "execution_count": 11,
   "metadata": {},
   "outputs": [
    {
     "data": {
      "text/plain": [
       "[0.5, 0.5, 0.5]"
      ]
     },
     "execution_count": 11,
     "metadata": {},
     "output_type": "execute_result"
    }
   ],
   "source": [
    "pay_vec"
   ]
  },
  {
   "cell_type": "markdown",
   "metadata": {},
   "source": [
    "## A more complex example\n",
    "Here we run an analysis similar to that run in [2]."
   ]
  },
  {
   "cell_type": "code",
   "execution_count": 12,
   "metadata": {},
   "outputs": [
    {
     "name": "stdout",
     "output_type": "stream",
     "text": [
      "/Users/ianbuckley/GitHub/systemic-risk-azure-notebooks/neva/data\n"
     ]
    }
   ],
   "source": [
    "# Change directory to where the neva data files are\n",
    "# %cd /home/nbuser/library/neva/data\n",
    "%cd /Users/ianbuckley/GitHub/systemic-risk-azure-notebooks/neva/data"
   ]
  },
  {
   "cell_type": "markdown",
   "metadata": {},
   "source": [
    "See:\n",
    "* [balance_sheets.csv](https://github.com/marcobardoscia/neva/blob/master/data/balance_sheets.csv),  \n",
    "* [exposures_table.csv](https://github.com/marcobardoscia/neva/blob/master/data/exposures_table.csv)"
   ]
  },
  {
   "cell_type": "code",
   "execution_count": 14,
   "metadata": {},
   "outputs": [],
   "source": [
    "import neva\n",
    "\n",
    "# parsing data\n",
    "bsys, params = neva.parse_csv('balance_sheets.csv', 'exposures_table.csv')\n",
    "\n",
    "# Geometric Browianian Motion on external assets, whose volatility is\n",
    "# estimated via the volatility of equities.\n",
    "sigma_equity = [float(params[bnk]['sigma_equity']) for bnk in params]\n",
    "bsys = neva.BankingSystemGBMse.with_sigma_equity(bsys, sigma_equity)\n",
    "    \n",
    "# storing initial equity\n",
    "equity_start = bsys.get_equity()\n",
    "\n",
    "# shocks to initial equity: 50%\n",
    "equity_delta = equity_start[:]\n",
    "equity_delta = [e * 0.5 for e in equity_start]\n",
    "\n",
    "# running ex-ante Black and Cox, as in [2] \n",
    "# with recovery rate equal to 60%\n",
    "recovery_rate = [0.6 for _ in bsys] \n",
    "neva.shock_and_solve(bsys, equity_delta, 'exante_en_blackcox_gbm', \n",
    "                     solve_assets=False, recovery_rate=recovery_rate)\n",
    "\n",
    "# reading equities after one round and after all rounds   \n",
    "equity_direct = bsys.history[1]\n",
    "equity_final = bsys.history[-1]"
   ]
  },
  {
   "cell_type": "code",
   "execution_count": 15,
   "metadata": {},
   "outputs": [
    {
     "data": {
      "text/plain": [
       "[0.49931408600805316, 0.4998175222442798, 0.4985895963905266]"
      ]
     },
     "execution_count": 15,
     "metadata": {},
     "output_type": "execute_result"
    }
   ],
   "source": [
    "equity_direct"
   ]
  },
  {
   "cell_type": "code",
   "execution_count": 16,
   "metadata": {},
   "outputs": [
    {
     "data": {
      "text/plain": [
       "[0.499311569480428, 0.4998105034682079, 0.4985733965882382]"
      ]
     },
     "execution_count": 16,
     "metadata": {},
     "output_type": "execute_result"
    }
   ],
   "source": [
    "equity_final"
   ]
  },
  {
   "cell_type": "code",
   "execution_count": 17,
   "metadata": {},
   "outputs": [
    {
     "data": {
      "text/plain": [
       "[[0.5, 0.5, 0.5],\n",
       " [0.49931408600805316, 0.4998175222442798, 0.4985895963905266],\n",
       " [0.499311569480428, 0.4998105034682079, 0.4985733965882382]]"
      ]
     },
     "execution_count": 17,
     "metadata": {},
     "output_type": "execute_result"
    }
   ],
   "source": [
    "bsys.history"
   ]
  },
  {
   "cell_type": "markdown",
   "metadata": {},
   "source": [
    "# Further reading"
   ]
  },
  {
   "cell_type": "markdown",
   "metadata": {},
   "source": [
    "[1] Barucca, Paolo, Marco Bardoscia, Fabio Caccioli, Marco D’Errico, Gabriele Visentin, Stefano Battiston, and Guido Caldarelli. “Network Valuation in Financial Systems.” SSRN Scholarly Paper. Rochester, NY: Social Science Research Network, June 14, 2016. https://papers.ssrn.com/abstract=2795583.  \n",
    "[2] Bardoscia, Marco, Paolo Barucca, Adam Brinley Codd, and John Hill. “The Decline of Solvency Contagion Risk.” SSRN Scholarly Paper. Rochester, NY: Social Science Research Network, June 30, 2017. https://papers.ssrn.com/abstract=2996689.    \n",
    "[3] Bardoscia, Marco. Neva: Network Valuation in Financial Systems. Python, 2017. https://github.com/marcobardoscia/neva.  \n",
    "[4] Barucca, Paolo. “BDF Tutorials: Network Based Stress Testing.” Asymptotic Freedom (blog), January 6, 2017. https://paolobarucca.com/courses/bdf-tutorials-network-based-stress-testing/.  \n",
    "[5] ———. “Network Valuation in Financial Systems.” 2017. https://icspconference.files.wordpress.com/2016/12/28_barucca.pdf.  \n",
    "[6] rayohauno. Nonlinear_debt_rank: This Is (the Essential) Part of the Code Used to Run the Simulations for \"Distress Propagation in Complex Networks: The Case of Non-Linear DebtRank\", M. Bardoscia, F.. Python, 2016. https://github.com/rayohauno/nonlinear_debt_rank.  "
   ]
  },
  {
   "cell_type": "markdown",
   "metadata": {},
   "source": [
    "Barucca, Paolo. “BDF Tutorials: Network Based Stress Testing.” 2017. https://paolobaruccadb.files.wordpress.com/2017/01/bdf-tutorials-network-based-stress-testing.pdf.  \n",
    "———. “BDF Tutorials: Network Based Stress Testing.” Asymptotic Freedom (blog), January 6, 2017. https://paolobarucca.com/courses/bdf-tutorials-network-based-stress-testing/.  \n",
    "———. Debtrank: Matlab Implementation of the Algorithm Described in Battiston et Al. 2012. Matlab, 2017. https://github.com/paolobarucca/debtrank.  \n",
    "———. Eisenbergnoe: Matlab Implementation of the Algorithm Described in Eisenberg and Noe 2001. Matlab, 2017. https://github.com/paolobarucca/eisenbergnoe.  \n",
    "———. Endogenousdebtrank: Matlab Implementation of the Algorithm Described in Barucca et Al. 2016. Matlab, 2017. https://github.com/paolobarucca/endogenousdebtrank.  \n",
    "———. Furfine: Matlab Implementation of the Algorithm Described in Furfine 1999. Matlab, 2017. https://github.com/paolobarucca/furfine.  \n",
    "———. Neva: Matlab Implementation of the General Framework Described in Barucca et Al. 2016. Matlab, 2017. https://github.com/paolobarucca/neva.  \n",
    "———. Rogersveraart: Matlab Implementation of the Algorithm Described in Rogers and Veraart 2013. Matlab, 2017. https://github.com/paolobarucca/rogersveraart.  \n",
    "“Big Data Finance 2017: Network-Based Stress Testing - Exercises.” Accessed July 18, 2017. https://paolobaruccadb.files.wordpress.com/2017/01/exercises.pdf.  "
   ]
  },
  {
   "cell_type": "code",
   "execution_count": null,
   "metadata": {},
   "outputs": [],
   "source": []
  }
 ],
 "metadata": {
  "kernelspec": {
   "display_name": "Python 3 (ipykernel)",
   "language": "python",
   "name": "python3"
  },
  "language_info": {
   "codemirror_mode": {
    "name": "ipython",
    "version": 3
   },
   "file_extension": ".py",
   "mimetype": "text/x-python",
   "name": "python",
   "nbconvert_exporter": "python",
   "pygments_lexer": "ipython3",
   "version": "3.9.7"
  }
 },
 "nbformat": 4,
 "nbformat_minor": 4
}
