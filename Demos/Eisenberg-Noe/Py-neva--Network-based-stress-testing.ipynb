{
  "metadata": {
    "kernelspec": {
      "display_name": "Python 3.6",
      "language": "python",
      "name": "python36"
    },
    "language_info": {
      "mimetype": "text/x-python",
      "nbconvert_exporter": "python",
      "name": "python",
      "pygments_lexer": "ipython3",
      "version": "3.6.6",
      "file_extension": ".py",
      "codemirror_mode": {
        "version": 3,
        "name": "ipython"
      }
    }
  },
  "nbformat_minor": 2,
  "nbformat": 4,
  "cells": [
    {
      "cell_type": "markdown",
      "source": "# Network-based stress testing ",
      "metadata": {}
    },
    {
      "cell_type": "markdown",
      "source": "Network-based stress testing using the Network Valuation in financial systems (NEVA) framework.  \nhttps://github.com/marcobardoscia/neva   \nhttps://github.com/marcobardoscia/neva/blob/master/README.md   \nFor [Barucca's slides](https://paolobaruccadb.files.wordpress.com/2017/01/bdf-tutorials-network-based-stress-testing.pdf) on the theory, & Matlab implementations, see [4].   ",
      "metadata": {}
    },
    {
      "cell_type": "markdown",
      "source": "#### Related notebooks",
      "metadata": {}
    },
    {
      "cell_type": "markdown",
      "source": "NEVA is based on Merton's structural credit risk model, which views the equity price as an option on the underlying value of the firm, with strike price given by the debt level. (Merton 1974). This is demonstrated in the Azure Jupyter notebook using the R package `CreditRisk`: [R-CreditRisk.ipynb](https://notebooks.azure.com/ian-buckley/libraries/systemic-risk/html/R-CreditRisk.ipynb)",
      "metadata": {}
    },
    {
      "cell_type": "markdown",
      "source": "## Overview",
      "metadata": {}
    },
    {
      "cell_type": "markdown",
      "source": "Channels of financial contagion that cause systemic risk include solvency, distress & liquidity contagion.",
      "metadata": {}
    },
    {
      "cell_type": "markdown",
      "source": "Define a simple financial system composed of institutions with balance sheets:\n* external assets\n* external liabilities\n* interbank liabilities (matrix)",
      "metadata": {}
    },
    {
      "cell_type": "markdown",
      "source": "Mechanisms of financial contagion:\n* Furfine\n* Eisenberg-Noe \n* Rogers-Veraart\n* DebtRank\n* Endogenous DebtRank",
      "metadata": {}
    },
    {
      "cell_type": "markdown",
      "source": "|Model\t|Valuation time\t|Network propagation\t|Default losses\t|Endogenous Recovery\t|\n|:------ |:----- |:----- |:----- |:----- |\n|Merton\t|Ex-ante\t|None\t|None\t|None\t|\n|Eisenberg Noe\t|Ex-post\t|Local\t|None\t|Full\t|\n|Rogers Veraart\t|Ex-post\t|Local\t|Present\t|Full\t|\n|Linear DebtRank|Ex-ante\t|Local\t|Present\t|None\t|\n|Fischer Model\t|Ex-ante\t|Global\t|None\t|Full\t|\n|NEVA\t|Ex-ante\t|Local\t|Present\t|Full\t|\n",
      "metadata": {}
    },
    {
      "cell_type": "markdown",
      "source": "The Network Valuation in financial systems (NEVA) framework \n* asks the question: \"What is the net value of a financial institution in a network?\". \n* takes into account at the same time \n * **interdependencies** (as in Furfine 1999, Eisenberg and Noe 2001) and \n * **uncertainty** (as in Merton 1974) with local exchange of information.",
      "metadata": {}
    },
    {
      "cell_type": "markdown",
      "source": "#### Theory of the valuation of equities as fixed point of a map",
      "metadata": {}
    },
    {
      "cell_type": "markdown",
      "source": "Text from https://github.com/marcobardoscia/neva/blob/master/neva/bank.py",
      "metadata": {}
    },
    {
      "cell_type": "markdown",
      "source": "The balance sheet of the bank consists of assets and liabilities, both of\nwhich can be either external or interbank. Interbank assets and liabilites are \ntowards other banks:  \n>    $A_{ij}$ : money that bank $i$ loaned to bank $j$,  \n\nwhich is an asset for bank $i$. A corresponding liability $L_{ji} = A_{ij}$ exists in \nthe balance sheet of bank j, so that:   \n>    $L_i^{ib} = \\sum_j L_{ij}$: aggregate interbank liabilities of bank i.   \n\nExternal assets and liabilities are towards entities not belonging to the \nbanking system:    \n>    $A_i^e$ : aggregate external assets of bank $i$,  \n>    $L_i^e$ : aggregate external liabilities of bank $i$.  \n\nTherefore, the face (or book) value of the equity of bank $i$ is:  \n>    $E_i = A_i^e - L_i^e + \\sum_j A_{ij} - L_i^{ib}$ .  \n\nLiabilities have the following priorities (from the most senior to the most \njunior): external, interbank, equity. The mark-to-market valuation of external \nassets of bank i is:   \n>   $ A_i^e * V_i^e(E_i)$ ,  \n\nwhere $V_i^e (E_i)$ is the external valuation function for bank i and it takes \nvalues in the real interval [0, 1]. Similarly, the mark-to-market valuation of\ninterbank assets is:   \n>    $A_{ij} * V_{ij}(E_i, E_j)$ ,   \n\nwhere $V_{ij}(E_i, E_j)$ is the full interbank valuation function for the couple \nof banks i and j and it also takes values in the real interval [0, 1]. Here \nthe full interbank valuation function is factorised in following way:    \n>    $V_{ij}(E_i, E_j) = {\\rm ibeval\\_lender}(E_i) * {\\rm ibeval}(E_j)$ ,  \n\nthe lender interbank valuation function and the (proper) interbank valuation \nfunction. The former captures the dependence of the valuation of interbank \nassets on the equity of the lender, while the latter on the equity of the \nborrower.   \nThe valuation of the equities is obtained as fixed point of the map:   \n>    $E = \\Phi(E)$ ,  \n\nwhere:    \n>    $\\Phi(E_i) =  A_i^e * V_i^e(E_i) - L_i^e +\n                 + \\sum_j A_{ij} * V_{ij}(E_i, E_j) - L_i^{ib}$ .  ",
      "metadata": {}
    },
    {
      "cell_type": "markdown",
      "source": "### Install package from github - first time only!",
      "metadata": {}
    },
    {
      "cell_type": "markdown",
      "source": "This only needs to be done the first time that you run the notebook after cloning the notebook into your own account. ",
      "metadata": {}
    },
    {
      "cell_type": "markdown",
      "source": "Clone git repository to Azure. Output should say:  \n    `Cloning into 'neva'...  \n    Checking out files: 100% (23/23), done.`",
      "metadata": {}
    },
    {
      "cell_type": "code",
      "source": "!git clone git://github.com/marcobardoscia/neva.git",
      "metadata": {
        "collapsed": true
      },
      "execution_count": 1,
      "outputs": [
        {
          "name": "stdout",
          "output_type": "stream",
          "text": "Cloning into 'neva'...\nremote: Counting objects: 32, done.\u001b[K\nremote: Total 32 (delta 0), reused 0 (delta 0), pack-reused 32\u001b[K\nReceiving objects: 100% (32/32), 25.06 KiB | 0 bytes/s, done.\nResolving deltas: 100% (4/4), done.\nChecking connectivity... done.\nChecking out files: 100% (23/23), done.\n"
        }
      ]
    },
    {
      "cell_type": "markdown",
      "source": "Change directory into the newly-created `neva` folder, to run the script to install the `neva` package, ready for use by the python code in the notebook.",
      "metadata": {
        "slideshow": {
          "slide_type": "slide"
        }
      }
    },
    {
      "cell_type": "code",
      "source": "%cd /home/nbuser/library/neva\n!python setup.py install\n%cd /home/nbuser/library   # Move back up to /home/nbuser/library",
      "metadata": {
        "collapsed": true
      },
      "execution_count": 5,
      "outputs": [
        {
          "name": "stdout",
          "output_type": "stream",
          "text": "/home/nbuser/library/neva\nrunning install\nrunning bdist_egg\nrunning egg_info\ncreating neva.egg-info\nwriting neva.egg-info/PKG-INFO\nwriting dependency_links to neva.egg-info/dependency_links.txt\nwriting top-level names to neva.egg-info/top_level.txt\nwriting manifest file 'neva.egg-info/SOURCES.txt'\nreading manifest file 'neva.egg-info/SOURCES.txt'\nreading manifest template 'MANIFEST.in'\nwarning: no files found matching 'Readme.md'\nwriting manifest file 'neva.egg-info/SOURCES.txt'\ninstalling library code to build/bdist.linux-x86_64/egg\nrunning install_lib\nrunning build_py\ncreating build\ncreating build/lib\ncreating build/lib/neva\ncopying neva/__init__.py -> build/lib/neva\ncopying neva/bank.py -> build/lib/neva\ncopying neva/parse.py -> build/lib/neva\ncopying neva/adjust.py -> build/lib/neva\ncopying neva/utils.py -> build/lib/neva\ncopying neva/exteval.py -> build/lib/neva\ncopying neva/ibeval.py -> build/lib/neva\ncopying neva/gbm.py -> build/lib/neva\ncopying neva/ibeval_lender.py -> build/lib/neva\ncopying neva/bankingsystem.py -> build/lib/neva\ncreating build/bdist.linux-x86_64\ncreating build/bdist.linux-x86_64/egg\ncreating build/bdist.linux-x86_64/egg/neva\ncopying build/lib/neva/ibeval.py -> build/bdist.linux-x86_64/egg/neva\ncopying build/lib/neva/bank.py -> build/bdist.linux-x86_64/egg/neva\ncopying build/lib/neva/parse.py -> build/bdist.linux-x86_64/egg/neva\ncopying build/lib/neva/adjust.py -> build/bdist.linux-x86_64/egg/neva\ncopying build/lib/neva/__init__.py -> build/bdist.linux-x86_64/egg/neva\ncopying build/lib/neva/exteval.py -> build/bdist.linux-x86_64/egg/neva\ncopying build/lib/neva/utils.py -> build/bdist.linux-x86_64/egg/neva\ncopying build/lib/neva/gbm.py -> build/bdist.linux-x86_64/egg/neva\ncopying build/lib/neva/ibeval_lender.py -> build/bdist.linux-x86_64/egg/neva\ncopying build/lib/neva/bankingsystem.py -> build/bdist.linux-x86_64/egg/neva\nbyte-compiling build/bdist.linux-x86_64/egg/neva/ibeval.py to ibeval.cpython-36.pyc\nbyte-compiling build/bdist.linux-x86_64/egg/neva/bank.py to bank.cpython-36.pyc\nbyte-compiling build/bdist.linux-x86_64/egg/neva/parse.py to parse.cpython-36.pyc\nbyte-compiling build/bdist.linux-x86_64/egg/neva/adjust.py to adjust.cpython-36.pyc\nbyte-compiling build/bdist.linux-x86_64/egg/neva/__init__.py to __init__.cpython-36.pyc\nbyte-compiling build/bdist.linux-x86_64/egg/neva/exteval.py to exteval.cpython-36.pyc\nbyte-compiling build/bdist.linux-x86_64/egg/neva/utils.py to utils.cpython-36.pyc\nbyte-compiling build/bdist.linux-x86_64/egg/neva/gbm.py to gbm.cpython-36.pyc\nbyte-compiling build/bdist.linux-x86_64/egg/neva/ibeval_lender.py to ibeval_lender.cpython-36.pyc\nbyte-compiling build/bdist.linux-x86_64/egg/neva/bankingsystem.py to bankingsystem.cpython-36.pyc\ncreating build/bdist.linux-x86_64/egg/EGG-INFO\ncopying neva.egg-info/PKG-INFO -> build/bdist.linux-x86_64/egg/EGG-INFO\ncopying neva.egg-info/SOURCES.txt -> build/bdist.linux-x86_64/egg/EGG-INFO\ncopying neva.egg-info/dependency_links.txt -> build/bdist.linux-x86_64/egg/EGG-INFO\ncopying neva.egg-info/not-zip-safe -> build/bdist.linux-x86_64/egg/EGG-INFO\ncopying neva.egg-info/top_level.txt -> build/bdist.linux-x86_64/egg/EGG-INFO\ncreating dist\ncreating 'dist/neva-0.1-py3.6.egg' and adding 'build/bdist.linux-x86_64/egg' to it\nremoving 'build/bdist.linux-x86_64/egg' (and everything under it)\nProcessing neva-0.1-py3.6.egg\ncreating /home/nbuser/anaconda3_501/lib/python3.6/site-packages/neva-0.1-py3.6.egg\nExtracting neva-0.1-py3.6.egg to /home/nbuser/anaconda3_501/lib/python3.6/site-packages\nAdding neva 0.1 to easy-install.pth file\n\nInstalled /home/nbuser/anaconda3_501/lib/python3.6/site-packages/neva-0.1-py3.6.egg\nProcessing dependencies for neva==0.1\nFinished processing dependencies for neva==0.1\n[Errno 2] No such file or directory: '/home/nbuser/library # Move back up to /home/nbuser/library'\n/home/nbuser/library/neva\n"
        }
      ]
    },
    {
      "cell_type": "code",
      "source": "# Append the package to the path\n# import sys\n# sys.path.append(\"/home/nbuser/library/neva/data\") # Still can't find the data. Have to cd there!\n# sys.path.append('/home/nbuser/anaconda3_501/lib/python3.6/site-packages/neva-0.1-py3.6.egg')",
      "metadata": {},
      "execution_count": 16,
      "outputs": []
    },
    {
      "cell_type": "code",
      "source": "# Change directory to where the neva  files are\n%cd /home/nbuser/library/neva",
      "metadata": {},
      "execution_count": 8,
      "outputs": [
        {
          "name": "stdout",
          "output_type": "stream",
          "text": "/home/nbuser/library/neva\n"
        }
      ]
    },
    {
      "cell_type": "markdown",
      "source": "## Simplest example - Eisenberg and Noe\nIn the simplest example we will run the Eisenberg and Noe algorithm without \nany shocks to equities.",
      "metadata": {}
    },
    {
      "cell_type": "code",
      "source": "import neva",
      "metadata": {},
      "execution_count": 9,
      "outputs": []
    },
    {
      "cell_type": "code",
      "source": "help(neva)",
      "metadata": {},
      "execution_count": 10,
      "outputs": [
        {
          "name": "stdout",
          "output_type": "stream",
          "text": "Help on package neva:\n\nNAME\n    neva\n\nPACKAGE CONTENTS\n    adjust\n    bank\n    bankingsystem\n    exteval\n    gbm\n    ibeval\n    ibeval_lender\n    parse\n    utils\n\nFILE\n    /home/nbuser/library/neva/neva/__init__.py\n\n\n"
        }
      ]
    },
    {
      "cell_type": "code",
      "source": "# Change directory to where the neva data files are\n%cd /home/nbuser/library/neva/data",
      "metadata": {},
      "execution_count": 11,
      "outputs": [
        {
          "name": "stdout",
          "output_type": "stream",
          "text": "/home/nbuser/library/neva/data\n"
        }
      ]
    },
    {
      "cell_type": "markdown",
      "source": "See:\n* [balance_sheets.csv](https://github.com/marcobardoscia/neva/blob/master/data/balance_sheets.csv),  \n* [exposures_table.csv](https://github.com/marcobardoscia/neva/blob/master/data/exposures_table.csv)",
      "metadata": {}
    },
    {
      "cell_type": "code",
      "source": "# parsing data\nbsys, params = neva.parse_csv('balance_sheets.csv', 'exposures_table.csv')",
      "metadata": {},
      "execution_count": 12,
      "outputs": []
    },
    {
      "cell_type": "code",
      "source": "# running Eisenberg and Noe (without any shock to equities)\nequity_shock = [0.0 for _ in bsys]\nneva.shock_and_solve(bsys, equity_shock, method='eisenberg_noe', solve_assets=False)",
      "metadata": {},
      "execution_count": 13,
      "outputs": []
    },
    {
      "cell_type": "code",
      "source": "# reading final equities\nequity_final = bsys.history[-1]",
      "metadata": {},
      "execution_count": 14,
      "outputs": []
    },
    {
      "cell_type": "code",
      "source": "equity_final",
      "metadata": {},
      "execution_count": 15,
      "outputs": [
        {
          "execution_count": 15,
          "output_type": "execute_result",
          "data": {
            "text/plain": "[1.0, 1.0, 1.0]"
          },
          "metadata": {}
        }
      ]
    },
    {
      "cell_type": "code",
      "source": "# computing payment vectors\npay_vec = [bnk.ibliabtot if bnk.equity >= 0 else\n           max(bnk.equity + bnk.ibliabtot, 0.0) for bnk in bsys]",
      "metadata": {},
      "execution_count": 16,
      "outputs": []
    },
    {
      "cell_type": "code",
      "source": "pay_vec",
      "metadata": {},
      "execution_count": 17,
      "outputs": [
        {
          "execution_count": 17,
          "output_type": "execute_result",
          "data": {
            "text/plain": "[0.5, 0.5, 0.5]"
          },
          "metadata": {}
        }
      ]
    },
    {
      "cell_type": "markdown",
      "source": "## A more complex example\nHere we run an analysis similar to that run in [2].",
      "metadata": {}
    },
    {
      "cell_type": "code",
      "source": "# Change directory to where the neva data files are\n%cd /home/nbuser/library/neva/data",
      "metadata": {},
      "execution_count": 18,
      "outputs": [
        {
          "name": "stdout",
          "output_type": "stream",
          "text": "/home/nbuser/library/neva/data\n"
        }
      ]
    },
    {
      "cell_type": "markdown",
      "source": "See:\n* [balance_sheets.csv](https://github.com/marcobardoscia/neva/blob/master/data/balance_sheets.csv),  \n* [exposures_table.csv](https://github.com/marcobardoscia/neva/blob/master/data/exposures_table.csv)",
      "metadata": {}
    },
    {
      "cell_type": "code",
      "source": "import neva\n\n# parsing data\nbsys, params = neva.parse_csv('balance_sheets.csv', 'exposures_table.csv')\n\n# Geometric Browianian Motion on external assets, whose volatility is\n# estimated via the volatility of equities.\nsigma_equity = [float(params[bnk]['sigma_equity']) for bnk in params]\nbsys = neva.BankingSystemGBMse.with_sigma_equity(bsys, sigma_equity)\n    \n# storing initial equity\nequity_start = bsys.get_equity()\n\n# shocks to initial equity: 50%\nequity_delta = equity_start[:]\nequity_delta = [e * 0.5 for e in equity_start]\n\n# running ex-ante Black and Cox, as in [2] \n# with recovery rate equal to 60%\nrecovery_rate = [0.6 for _ in bsys] \nneva.shock_and_solve(bsys, equity_delta, 'exante_en_blackcox_gbm', \n                     solve_assets=False, recovery_rate=recovery_rate)\n\n# reading equities after one round and after all rounds   \nequity_direct = bsys.history[1]\nequity_final = bsys.history[-1]",
      "metadata": {},
      "execution_count": 19,
      "outputs": []
    },
    {
      "cell_type": "code",
      "source": "equity_direct",
      "metadata": {},
      "execution_count": 20,
      "outputs": [
        {
          "execution_count": 20,
          "output_type": "execute_result",
          "data": {
            "text/plain": "[0.49931408600805316, 0.4998175222442798, 0.4985895963905266]"
          },
          "metadata": {}
        }
      ]
    },
    {
      "cell_type": "code",
      "source": "equity_final",
      "metadata": {},
      "execution_count": 21,
      "outputs": [
        {
          "execution_count": 21,
          "output_type": "execute_result",
          "data": {
            "text/plain": "[0.499311569480428, 0.4998105034682079, 0.4985733965882382]"
          },
          "metadata": {}
        }
      ]
    },
    {
      "cell_type": "markdown",
      "source": "# Further reading",
      "metadata": {}
    },
    {
      "cell_type": "markdown",
      "source": "[1] Barucca, Paolo, Marco Bardoscia, Fabio Caccioli, Marco D’Errico, Gabriele Visentin, Stefano Battiston, and Guido Caldarelli. “Network Valuation in Financial Systems.” SSRN Scholarly Paper. Rochester, NY: Social Science Research Network, June 14, 2016. https://papers.ssrn.com/abstract=2795583.  \n[2] Bardoscia, Marco, Paolo Barucca, Adam Brinley Codd, and John Hill. “The Decline of Solvency Contagion Risk.” SSRN Scholarly Paper. Rochester, NY: Social Science Research Network, June 30, 2017. https://papers.ssrn.com/abstract=2996689.    \n[3] Bardoscia, Marco. Neva: Network Valuation in Financial Systems. Python, 2017. https://github.com/marcobardoscia/neva.  \n[4] Barucca, Paolo. “BDF Tutorials: Network Based Stress Testing.” Asymptotic Freedom (blog), January 6, 2017. https://paolobarucca.com/courses/bdf-tutorials-network-based-stress-testing/.  \n[5] ———. “Network Valuation in Financial Systems.” 2017. https://icspconference.files.wordpress.com/2016/12/28_barucca.pdf.  \n[6] rayohauno. Nonlinear_debt_rank: This Is (the Essential) Part of the Code Used to Run the Simulations for \"Distress Propagation in Complex Networks: The Case of Non-Linear DebtRank\", M. Bardoscia, F.. Python, 2016. https://github.com/rayohauno/nonlinear_debt_rank.  ",
      "metadata": {}
    },
    {
      "cell_type": "markdown",
      "source": "Barucca, Paolo. “BDF Tutorials: Network Based Stress Testing.” 2017. https://paolobaruccadb.files.wordpress.com/2017/01/bdf-tutorials-network-based-stress-testing.pdf.  \n———. “BDF Tutorials: Network Based Stress Testing.” Asymptotic Freedom (blog), January 6, 2017. https://paolobarucca.com/courses/bdf-tutorials-network-based-stress-testing/.  \n———. Debtrank: Matlab Implementation of the Algorithm Described in Battiston et Al. 2012. Matlab, 2017. https://github.com/paolobarucca/debtrank.  \n———. Eisenbergnoe: Matlab Implementation of the Algorithm Described in Eisenberg and Noe 2001. Matlab, 2017. https://github.com/paolobarucca/eisenbergnoe.  \n———. Endogenousdebtrank: Matlab Implementation of the Algorithm Described in Barucca et Al. 2016. Matlab, 2017. https://github.com/paolobarucca/endogenousdebtrank.  \n———. Furfine: Matlab Implementation of the Algorithm Described in Furfine 1999. Matlab, 2017. https://github.com/paolobarucca/furfine.  \n———. Neva: Matlab Implementation of the General Framework Described in Barucca et Al. 2016. Matlab, 2017. https://github.com/paolobarucca/neva.  \n———. Rogersveraart: Matlab Implementation of the Algorithm Described in Rogers and Veraart 2013. Matlab, 2017. https://github.com/paolobarucca/rogersveraart.  \n“Big Data Finance 2017: Network-Based Stress Testing - Exercises.” Accessed July 18, 2017. https://paolobaruccadb.files.wordpress.com/2017/01/exercises.pdf.  ",
      "metadata": {}
    },
    {
      "cell_type": "code",
      "source": "",
      "metadata": {},
      "execution_count": null,
      "outputs": []
    }
  ]
}